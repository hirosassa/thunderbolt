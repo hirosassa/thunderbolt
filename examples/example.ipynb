{
 "cells": [
  {
   "cell_type": "markdown",
   "metadata": {},
   "source": [
    "---\n",
    "# gokart task run\n",
    "---\n",
    "running sample task"
   ]
  },
  {
   "cell_type": "code",
   "execution_count": 1,
   "metadata": {},
   "outputs": [],
   "source": [
    "import os\n",
    "os.environ['TASK_WORKSPACE_DIRECTORY'] = './resources'"
   ]
  },
  {
   "cell_type": "code",
   "execution_count": 2,
   "metadata": {},
   "outputs": [
    {
     "name": "stdout",
     "output_type": "stream",
     "text": [
      "# define tasks\n",
      "import gokart\n",
      "import luigi\n",
      "from luigi.util import requires\n",
      "from logging import getLogger\n",
      "\n",
      "logger = getLogger(__name__)\n",
      "\n",
      "\n",
      "class SampleTask(gokart.TaskOnKart):\n",
      "    task_namespace = 'sample'\n",
      "    model_name = luigi.Parameter()\n",
      "    number = luigi.IntParameter()\n",
      "    \n",
      "    def require(self):\n",
      "        return\n",
      "\n",
      "    def output(self):\n",
      "        return self.make_target(f'{self.model_name}/sample.pkl')\n",
      "\n",
      "    def run(self):\n",
      "        self.dump(f'this is sample output. model number: {self.number}')\n",
      "\n",
      "        \n",
      "@requires(SampleTask)\n",
      "class SecondTask(gokart.TaskOnKart):\n",
      "    task_namespace = 'sample'\n",
      "    param = luigi.Parameter()\n",
      "\n",
      "    def output(self):\n",
      "        return self.make_target(f'SECOND_TASK/task.pkl')\n",
      "\n",
      "    def run(self):\n",
      "        sample = self.load()\n",
      "        self.dump(sample + f'add task: {self.param}')\n",
      "        \n",
      "gokart.run()"
     ]
    }
   ],
   "source": [
    "!cat ./example_task.py"
   ]
  },
  {
   "cell_type": "code",
   "execution_count": 3,
   "metadata": {},
   "outputs": [],
   "source": [
    "# sample task run\n",
    "!python example_task.py sample.SampleTask --model-name='EXAMPLE' --number=1 --local-scheduler 2> /dev/null\n",
    "!python example_task.py sample.SampleTask --model-name='EXAMPLE' --number=2 --local-scheduler 2> /dev/null\n",
    "!python example_task.py sample.SampleTask --model-name='EXAMPLE' --number=3 --local-scheduler 2> /dev/null\n",
    "!python example_task.py sample.SampleTask --model-name='TEMP' --number=1 --local-scheduler 2> /dev/null\n",
    "!python example_task.py sample.SampleTask --model-name='TEMP' --number=2 --local-scheduler 2> /dev/null\n",
    "!python example_task.py sample.SecondTask --model-name='TEMP' --number=2 --param='RUN' --local-scheduler --local-temporary-directory='./resource' 2> /dev/null"
   ]
  },
  {
   "cell_type": "code",
   "execution_count": 4,
   "metadata": {},
   "outputs": [
    {
     "name": "stdout",
     "output_type": "stream",
     "text": [
      "\u001b[0;34m./resources/\u001b[00m\n",
      "├── \u001b[0;34mEXAMPLE\u001b[00m\n",
      "│   ├── sample_222e2155cfed25bcda5234056cf1fa5c.pkl\n",
      "│   ├── sample_9a30d39315e2db5a8db587544a3bd5c2.pkl\n",
      "│   └── sample_af3d19290570cca7e6aa0a5a5dc534ea.pkl\n",
      "├── \u001b[0;34mSECOND_TASK\u001b[00m\n",
      "│   └── task_6cf070abfbefc917a198521a26818c7a.pkl\n",
      "├── \u001b[0;34mTEMP\u001b[00m\n",
      "│   ├── sample_c4cfb28a2370db69219de0acc802b721.pkl\n",
      "│   └── sample_dc93d9e52a67bed92f72193bb7dd10a9.pkl\n",
      "└── \u001b[0;34mlog\u001b[00m\n",
      "    ├── \u001b[0;34mprocessing_time\u001b[00m\n",
      "    │   ├── SampleTask_222e2155cfed25bcda5234056cf1fa5c.pkl\n",
      "    │   ├── SampleTask_9a30d39315e2db5a8db587544a3bd5c2.pkl\n",
      "    │   ├── SampleTask_af3d19290570cca7e6aa0a5a5dc534ea.pkl\n",
      "    │   ├── SampleTask_c4cfb28a2370db69219de0acc802b721.pkl\n",
      "    │   ├── SampleTask_dc93d9e52a67bed92f72193bb7dd10a9.pkl\n",
      "    │   └── SecondTask_6cf070abfbefc917a198521a26818c7a.pkl\n",
      "    ├── \u001b[0;34mtask_log\u001b[00m\n",
      "    │   ├── SampleTask_222e2155cfed25bcda5234056cf1fa5c.pkl\n",
      "    │   ├── SampleTask_9a30d39315e2db5a8db587544a3bd5c2.pkl\n",
      "    │   ├── SampleTask_af3d19290570cca7e6aa0a5a5dc534ea.pkl\n",
      "    │   ├── SampleTask_c4cfb28a2370db69219de0acc802b721.pkl\n",
      "    │   ├── SampleTask_dc93d9e52a67bed92f72193bb7dd10a9.pkl\n",
      "    │   └── SecondTask_6cf070abfbefc917a198521a26818c7a.pkl\n",
      "    └── \u001b[0;34mtask_params\u001b[00m\n",
      "        ├── SampleTask_222e2155cfed25bcda5234056cf1fa5c.pkl\n",
      "        ├── SampleTask_9a30d39315e2db5a8db587544a3bd5c2.pkl\n",
      "        ├── SampleTask_af3d19290570cca7e6aa0a5a5dc534ea.pkl\n",
      "        ├── SampleTask_c4cfb28a2370db69219de0acc802b721.pkl\n",
      "        ├── SampleTask_dc93d9e52a67bed92f72193bb7dd10a9.pkl\n",
      "        └── SecondTask_6cf070abfbefc917a198521a26818c7a.pkl\n",
      "\n",
      "7 directories, 24 files\n"
     ]
    }
   ],
   "source": [
    "!tree ./resources/"
   ]
  },
  {
   "cell_type": "markdown",
   "metadata": {},
   "source": [
    "---\n",
    "# Init Thunderbolt\n",
    "---\n",
    "using thunderbolt"
   ]
  },
  {
   "cell_type": "code",
   "execution_count": 5,
   "metadata": {},
   "outputs": [],
   "source": [
    "from thunderbolt import Thunderbolt"
   ]
  },
  {
   "cell_type": "code",
   "execution_count": 6,
   "metadata": {},
   "outputs": [
    {
     "name": "stderr",
     "output_type": "stream",
     "text": [
      "100%|██████████| 6/6 [00:00<00:00, 5551.69it/s]\n"
     ]
    }
   ],
   "source": [
    "# 1st arg is gokart's TASK_WORKSPACE_DIRECTORY\n",
    "\n",
    "task_dir = os.environ['TASK_WORKSPACE_DIRECTORY']\n",
    "tb = Thunderbolt(task_dir) "
   ]
  },
  {
   "cell_type": "markdown",
   "metadata": {},
   "source": [
    "## Check tasks param\n",
    "checking thunderbolt's task_id"
   ]
  },
  {
   "cell_type": "code",
   "execution_count": 7,
   "metadata": {},
   "outputs": [],
   "source": [
    "df = tb.get_task_df()"
   ]
  },
  {
   "cell_type": "code",
   "execution_count": 8,
   "metadata": {},
   "outputs": [
    {
     "data": {
      "text/html": [
       "<div>\n",
       "<style scoped>\n",
       "    .dataframe tbody tr th:only-of-type {\n",
       "        vertical-align: middle;\n",
       "    }\n",
       "\n",
       "    .dataframe tbody tr th {\n",
       "        vertical-align: top;\n",
       "    }\n",
       "\n",
       "    .dataframe thead th {\n",
       "        text-align: right;\n",
       "    }\n",
       "</style>\n",
       "<table border=\"1\" class=\"dataframe\">\n",
       "  <thead>\n",
       "    <tr style=\"text-align: right;\">\n",
       "      <th></th>\n",
       "      <th>task_id</th>\n",
       "      <th>task_name</th>\n",
       "      <th>last_modified</th>\n",
       "      <th>task_params</th>\n",
       "    </tr>\n",
       "  </thead>\n",
       "  <tbody>\n",
       "    <tr>\n",
       "      <th>0</th>\n",
       "      <td>0</td>\n",
       "      <td>SampleTask</td>\n",
       "      <td>2019-08-18 01:57:03.552976</td>\n",
       "      <td>{'model_name': 'EXAMPLE', 'number': '2'}</td>\n",
       "    </tr>\n",
       "    <tr>\n",
       "      <th>1</th>\n",
       "      <td>1</td>\n",
       "      <td>SampleTask</td>\n",
       "      <td>2019-08-18 01:57:06.890364</td>\n",
       "      <td>{'model_name': 'TEMP', 'number': '2'}</td>\n",
       "    </tr>\n",
       "    <tr>\n",
       "      <th>2</th>\n",
       "      <td>2</td>\n",
       "      <td>SampleTask</td>\n",
       "      <td>2019-08-18 01:57:04.874456</td>\n",
       "      <td>{'model_name': 'EXAMPLE', 'number': '3'}</td>\n",
       "    </tr>\n",
       "    <tr>\n",
       "      <th>3</th>\n",
       "      <td>3</td>\n",
       "      <td>SampleTask</td>\n",
       "      <td>2019-08-18 01:57:05.879843</td>\n",
       "      <td>{'model_name': 'TEMP', 'number': '1'}</td>\n",
       "    </tr>\n",
       "    <tr>\n",
       "      <th>4</th>\n",
       "      <td>4</td>\n",
       "      <td>SampleTask</td>\n",
       "      <td>2019-08-18 01:57:02.499170</td>\n",
       "      <td>{'model_name': 'EXAMPLE', 'number': '1'}</td>\n",
       "    </tr>\n",
       "    <tr>\n",
       "      <th>5</th>\n",
       "      <td>5</td>\n",
       "      <td>SecondTask</td>\n",
       "      <td>2019-08-18 01:57:07.918226</td>\n",
       "      <td>{'model_name': 'TEMP', 'number': '2', 'param': 'RUN'}</td>\n",
       "    </tr>\n",
       "  </tbody>\n",
       "</table>\n",
       "</div>"
      ],
      "text/plain": [
       "   task_id   task_name              last_modified  \\\n",
       "0        0  SampleTask 2019-08-18 01:57:03.552976   \n",
       "1        1  SampleTask 2019-08-18 01:57:06.890364   \n",
       "2        2  SampleTask 2019-08-18 01:57:04.874456   \n",
       "3        3  SampleTask 2019-08-18 01:57:05.879843   \n",
       "4        4  SampleTask 2019-08-18 01:57:02.499170   \n",
       "5        5  SecondTask 2019-08-18 01:57:07.918226   \n",
       "\n",
       "                                             task_params  \n",
       "0               {'model_name': 'EXAMPLE', 'number': '2'}  \n",
       "1                  {'model_name': 'TEMP', 'number': '2'}  \n",
       "2               {'model_name': 'EXAMPLE', 'number': '3'}  \n",
       "3                  {'model_name': 'TEMP', 'number': '1'}  \n",
       "4               {'model_name': 'EXAMPLE', 'number': '1'}  \n",
       "5  {'model_name': 'TEMP', 'number': '2', 'param': 'RUN'}  "
      ]
     },
     "execution_count": 8,
     "metadata": {},
     "output_type": "execute_result"
    }
   ],
   "source": [
    "import pandas as pd\n",
    "pd.set_option(\"display.max_colwidth\", 200)\n",
    "df"
   ]
  },
  {
   "cell_type": "markdown",
   "metadata": {},
   "source": [
    "## thunderbolt filter\n",
    "2nd arg 'task_filters' is str or list.  \n",
    "task_filters is partial match word for example: \n",
    " - 'Tag' -> GaussTag, NormalizeGaussTag, MaxwellTag, TagSingle,...\n",
    " - ['Train', 'Tag'] -> TrainModel, TrainData,GaussTag, NormalizeGaussTag, MaxwellTag, TagSingle,..."
   ]
  },
  {
   "cell_type": "code",
   "execution_count": 9,
   "metadata": {},
   "outputs": [
    {
     "name": "stderr",
     "output_type": "stream",
     "text": [
      "100%|██████████| 6/6 [00:00<00:00, 3927.25it/s]\n"
     ]
    }
   ],
   "source": [
    "tb = Thunderbolt(task_dir, task_filters='Sample') "
   ]
  },
  {
   "cell_type": "code",
   "execution_count": 10,
   "metadata": {},
   "outputs": [
    {
     "data": {
      "text/html": [
       "<div>\n",
       "<style scoped>\n",
       "    .dataframe tbody tr th:only-of-type {\n",
       "        vertical-align: middle;\n",
       "    }\n",
       "\n",
       "    .dataframe tbody tr th {\n",
       "        vertical-align: top;\n",
       "    }\n",
       "\n",
       "    .dataframe thead th {\n",
       "        text-align: right;\n",
       "    }\n",
       "</style>\n",
       "<table border=\"1\" class=\"dataframe\">\n",
       "  <thead>\n",
       "    <tr style=\"text-align: right;\">\n",
       "      <th></th>\n",
       "      <th>last_modified</th>\n",
       "      <th>task_hash</th>\n",
       "      <th>task_id</th>\n",
       "      <th>task_log</th>\n",
       "      <th>task_name</th>\n",
       "      <th>task_params</th>\n",
       "    </tr>\n",
       "  </thead>\n",
       "  <tbody>\n",
       "    <tr>\n",
       "      <th>0</th>\n",
       "      <td>2019-08-18 01:57:03.552976</td>\n",
       "      <td>9a30d39315e2db5a8db587544a3bd5c2</td>\n",
       "      <td>0</td>\n",
       "      <td>{'file_path': ['./resources/EXAMPLE/sample_9a30d39315e2db5a8db587544a3bd5c2.pkl']}</td>\n",
       "      <td>SampleTask</td>\n",
       "      <td>{'model_name': 'EXAMPLE', 'number': '2'}</td>\n",
       "    </tr>\n",
       "    <tr>\n",
       "      <th>1</th>\n",
       "      <td>2019-08-18 01:57:06.890364</td>\n",
       "      <td>c4cfb28a2370db69219de0acc802b721</td>\n",
       "      <td>1</td>\n",
       "      <td>{'file_path': ['./resources/TEMP/sample_c4cfb28a2370db69219de0acc802b721.pkl']}</td>\n",
       "      <td>SampleTask</td>\n",
       "      <td>{'model_name': 'TEMP', 'number': '2'}</td>\n",
       "    </tr>\n",
       "    <tr>\n",
       "      <th>2</th>\n",
       "      <td>2019-08-18 01:57:04.874456</td>\n",
       "      <td>af3d19290570cca7e6aa0a5a5dc534ea</td>\n",
       "      <td>2</td>\n",
       "      <td>{'file_path': ['./resources/EXAMPLE/sample_af3d19290570cca7e6aa0a5a5dc534ea.pkl']}</td>\n",
       "      <td>SampleTask</td>\n",
       "      <td>{'model_name': 'EXAMPLE', 'number': '3'}</td>\n",
       "    </tr>\n",
       "    <tr>\n",
       "      <th>3</th>\n",
       "      <td>2019-08-18 01:57:05.879843</td>\n",
       "      <td>dc93d9e52a67bed92f72193bb7dd10a9</td>\n",
       "      <td>3</td>\n",
       "      <td>{'file_path': ['./resources/TEMP/sample_dc93d9e52a67bed92f72193bb7dd10a9.pkl']}</td>\n",
       "      <td>SampleTask</td>\n",
       "      <td>{'model_name': 'TEMP', 'number': '1'}</td>\n",
       "    </tr>\n",
       "    <tr>\n",
       "      <th>4</th>\n",
       "      <td>2019-08-18 01:57:02.499170</td>\n",
       "      <td>222e2155cfed25bcda5234056cf1fa5c</td>\n",
       "      <td>4</td>\n",
       "      <td>{'file_path': ['./resources/EXAMPLE/sample_222e2155cfed25bcda5234056cf1fa5c.pkl']}</td>\n",
       "      <td>SampleTask</td>\n",
       "      <td>{'model_name': 'EXAMPLE', 'number': '1'}</td>\n",
       "    </tr>\n",
       "  </tbody>\n",
       "</table>\n",
       "</div>"
      ],
      "text/plain": [
       "               last_modified                         task_hash  task_id  \\\n",
       "0 2019-08-18 01:57:03.552976  9a30d39315e2db5a8db587544a3bd5c2        0   \n",
       "1 2019-08-18 01:57:06.890364  c4cfb28a2370db69219de0acc802b721        1   \n",
       "2 2019-08-18 01:57:04.874456  af3d19290570cca7e6aa0a5a5dc534ea        2   \n",
       "3 2019-08-18 01:57:05.879843  dc93d9e52a67bed92f72193bb7dd10a9        3   \n",
       "4 2019-08-18 01:57:02.499170  222e2155cfed25bcda5234056cf1fa5c        4   \n",
       "\n",
       "                                                                             task_log  \\\n",
       "0  {'file_path': ['./resources/EXAMPLE/sample_9a30d39315e2db5a8db587544a3bd5c2.pkl']}   \n",
       "1     {'file_path': ['./resources/TEMP/sample_c4cfb28a2370db69219de0acc802b721.pkl']}   \n",
       "2  {'file_path': ['./resources/EXAMPLE/sample_af3d19290570cca7e6aa0a5a5dc534ea.pkl']}   \n",
       "3     {'file_path': ['./resources/TEMP/sample_dc93d9e52a67bed92f72193bb7dd10a9.pkl']}   \n",
       "4  {'file_path': ['./resources/EXAMPLE/sample_222e2155cfed25bcda5234056cf1fa5c.pkl']}   \n",
       "\n",
       "    task_name                               task_params  \n",
       "0  SampleTask  {'model_name': 'EXAMPLE', 'number': '2'}  \n",
       "1  SampleTask     {'model_name': 'TEMP', 'number': '2'}  \n",
       "2  SampleTask  {'model_name': 'EXAMPLE', 'number': '3'}  \n",
       "3  SampleTask     {'model_name': 'TEMP', 'number': '1'}  \n",
       "4  SampleTask  {'model_name': 'EXAMPLE', 'number': '1'}  "
      ]
     },
     "execution_count": 10,
     "metadata": {},
     "output_type": "execute_result"
    }
   ],
   "source": [
    "# all_data=True\n",
    "tb.get_task_df(all_data=True)"
   ]
  },
  {
   "cell_type": "markdown",
   "metadata": {},
   "source": [
    "---\n",
    "# Data Load\n",
    "---\n",
    "using load method\n",
    "- arg: thunderbolt's task_id\n",
    "- return : data list"
   ]
  },
  {
   "cell_type": "code",
   "execution_count": 11,
   "metadata": {},
   "outputs": [
    {
     "name": "stdout",
     "output_type": "stream",
     "text": [
      "this is sample output. model number: 1\n"
     ]
    }
   ],
   "source": [
    "for x in tb.load(task_id=3):\n",
    "    print(x)"
   ]
  },
  {
   "cell_type": "markdown",
   "metadata": {},
   "source": [
    "### newest data load example"
   ]
  },
  {
   "cell_type": "code",
   "execution_count": 12,
   "metadata": {},
   "outputs": [
    {
     "name": "stderr",
     "output_type": "stream",
     "text": [
      "100%|██████████| 6/6 [00:00<00:00, 6403.52it/s]\n"
     ]
    },
    {
     "data": {
      "text/plain": [
       "['this is sample output. model number: 2add task: RUN']"
      ]
     },
     "execution_count": 12,
     "metadata": {},
     "output_type": "execute_result"
    }
   ],
   "source": [
    "tb = Thunderbolt(task_dir, 'Second')\n",
    "tb.load(task_id=tb.get_task_df().sort_values('last_modified').task_id.iloc[0])"
   ]
  }
 ],
 "metadata": {
  "kernelspec": {
   "display_name": "Python 3",
   "language": "python",
   "name": "python3"
  },
  "language_info": {
   "codemirror_mode": {
    "name": "ipython",
    "version": 3
   },
   "file_extension": ".py",
   "mimetype": "text/x-python",
   "name": "python",
   "nbconvert_exporter": "python",
   "pygments_lexer": "ipython3",
   "version": "3.6.8"
  }
 },
 "nbformat": 4,
 "nbformat_minor": 4
}
